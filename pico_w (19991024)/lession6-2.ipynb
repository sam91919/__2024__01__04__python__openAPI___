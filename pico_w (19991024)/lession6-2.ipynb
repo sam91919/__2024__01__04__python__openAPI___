{
 "cells": [
  {
   "cell_type": "code",
   "execution_count": null,
   "metadata": {},
   "outputs": [],
   "source": [
    "from machine import Pin\n",
    "import time\n",
    "\n",
    "start_ticks1 = time.ticks_ms()\n",
    "start_ticks2 = time.ticks_ms()\n",
    "start_ticks3 = time.ticks_ms()\n",
    "led25 = Pin(\"LED\",Pin.OUT)\n",
    "ledStatus = False\n",
    "\n",
    "while True:\n",
    "    if time_ticks diff(time.ticks_ms(), start_ticks1) >= 1000:\n",
    "        print(\"過1秒\")\n",
    "        start_ticks1 = time.ticks_ms()\n",
    "        ledStatus = not ledStatus\n",
    "        led25.value(ledStatus)\n",
    "        \n",
    "    if time.ticks_diff(time.ticks_ms(), start_ticks2)= 5000:\n",
    "       print(\"過5秒了\")\n",
    "        start_ticks2 = time.ticks_ms()\n",
    "        ledStatus = not ledStatus\n",
    "        led25.value(ledStatus)\n",
    "        \n",
    "    if     \n",
    "        time.ticks_diff(time.ticks_ms(), start_ticks3) >= 10000:\n",
    "        print(\"過10秒了\")\n",
    "        start_ticks3 = time.ticks_ms()\n",
    "        ledStatus = not ledStatus\n",
    "        led25.value(ledStatus)"
   ]
  }
 ],
 "metadata": {
  "language_info": {
   "name": "python"
  }
 },
 "nbformat": 4,
 "nbformat_minor": 2
}
