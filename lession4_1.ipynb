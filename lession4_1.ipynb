{
 "cells": [
  {
   "cell_type": "code",
   "execution_count": 10,
   "metadata": {},
   "outputs": [
    {
     "name": "stdout",
     "output_type": "stream",
     "text": [
      "不可以投票\n",
      "未成年人\n"
     ]
    }
   ],
   "source": [
    "age=int(input(\"請輸入age\"))\n",
    "if age>=18:\n",
    "   print(\"可以投票\")\n",
    "   print(\"成年人\")\n",
    "else:\n",
    "   print(\"不可以投票\")\n",
    "   print(\"未成年人\")    "
   ]
  },
  {
   "cell_type": "code",
   "execution_count": 14,
   "metadata": {},
   "outputs": [
    {
     "name": "stdout",
     "output_type": "stream",
     "text": [
      "輸入錯誤!\n"
     ]
    }
   ],
   "source": [
    "#學生總分為300\n",
    "#檢查必需300分以內\n",
    "#有些學生可以加分5%\n",
    "#如果加分超過300,就以300分為準\n",
    "\n",
    "scores=int(input(\"請輸入學生分數(最高300):\"))\n",
    "if scores<=300:\n",
    "    is_add=input(\"學生是否符合加分條件?(y,n):\")\n",
    "    #巢狀判斷\n",
    "    if(is_add==\"y\"):\n",
    "        scores*=1.05\n",
    "        if scores>300:\n",
    "            scores=300\n",
    "    print(round(scores))       \n",
    "else:\n",
    "    print(\"輸入錯誤!\")\n",
    "\n",
    "    "
   ]
  }
 ],
 "metadata": {
  "kernelspec": {
   "display_name": "Python 3",
   "language": "python",
   "name": "python3"
  },
  "language_info": {
   "codemirror_mode": {
    "name": "ipython",
    "version": 3
   },
   "file_extension": ".py",
   "mimetype": "text/x-python",
   "name": "python",
   "nbconvert_exporter": "python",
   "pygments_lexer": "ipython3",
   "version": "3.10.8"
  }
 },
 "nbformat": 4,
 "nbformat_minor": 2
}
