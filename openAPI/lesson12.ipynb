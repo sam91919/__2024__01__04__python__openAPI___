{
 "cells": [
  {
   "cell_type": "code",
   "execution_count": 2,
   "metadata": {},
   "outputs": [
    {
     "ename": "AttributeError",
     "evalue": "'NoneType' object has no attribute 'startswith'",
     "output_type": "error",
     "traceback": [
      "\u001b[1;31m---------------------------------------------------------------------------\u001b[0m",
      "\u001b[1;31mAttributeError\u001b[0m                            Traceback (most recent call last)",
      "Cell \u001b[1;32mIn[2], line 5\u001b[0m\n\u001b[0;32m      3\u001b[0m \u001b[38;5;28;01mfrom\u001b[39;00m \u001b[38;5;21;01mdotenv\u001b[39;00m \u001b[38;5;28;01mimport\u001b[39;00m load_dotenv\n\u001b[0;32m      4\u001b[0m load_dotenv()\n\u001b[1;32m----> 5\u001b[0m redis_conn \u001b[38;5;241m=\u001b[39m \u001b[43mredis\u001b[49m\u001b[38;5;241;43m.\u001b[39;49m\u001b[43mRedis\u001b[49m\u001b[38;5;241;43m.\u001b[39;49m\u001b[43mfrom_url\u001b[49m\u001b[43m(\u001b[49m\u001b[43mos\u001b[49m\u001b[38;5;241;43m.\u001b[39;49m\u001b[43menviron\u001b[49m\u001b[38;5;241;43m.\u001b[39;49m\u001b[43mget\u001b[49m\u001b[43m(\u001b[49m\u001b[38;5;124;43m'\u001b[39;49m\u001b[38;5;124;43mREDIS_HOST_PASSWORD\u001b[39;49m\u001b[38;5;124;43m'\u001b[39;49m\u001b[43m)\u001b[49m\u001b[43m)\u001b[49m\n",
      "File \u001b[1;32mc:\\python3.10.8\\lib\\site-packages\\redis\\client.py:139\u001b[0m, in \u001b[0;36mRedis.from_url\u001b[1;34m(cls, url, **kwargs)\u001b[0m\n\u001b[0;32m     98\u001b[0m \u001b[38;5;250m\u001b[39m\u001b[38;5;124;03m\"\"\"\u001b[39;00m\n\u001b[0;32m     99\u001b[0m \u001b[38;5;124;03mReturn a Redis client object configured from the given URL\u001b[39;00m\n\u001b[0;32m    100\u001b[0m \n\u001b[1;32m   (...)\u001b[0m\n\u001b[0;32m    136\u001b[0m \n\u001b[0;32m    137\u001b[0m \u001b[38;5;124;03m\"\"\"\u001b[39;00m\n\u001b[0;32m    138\u001b[0m single_connection_client \u001b[38;5;241m=\u001b[39m kwargs\u001b[38;5;241m.\u001b[39mpop(\u001b[38;5;124m\"\u001b[39m\u001b[38;5;124msingle_connection_client\u001b[39m\u001b[38;5;124m\"\u001b[39m, \u001b[38;5;28;01mFalse\u001b[39;00m)\n\u001b[1;32m--> 139\u001b[0m connection_pool \u001b[38;5;241m=\u001b[39m ConnectionPool\u001b[38;5;241m.\u001b[39mfrom_url(url, \u001b[38;5;241m*\u001b[39m\u001b[38;5;241m*\u001b[39mkwargs)\n\u001b[0;32m    140\u001b[0m client \u001b[38;5;241m=\u001b[39m \u001b[38;5;28mcls\u001b[39m(\n\u001b[0;32m    141\u001b[0m     connection_pool\u001b[38;5;241m=\u001b[39mconnection_pool,\n\u001b[0;32m    142\u001b[0m     single_connection_client\u001b[38;5;241m=\u001b[39msingle_connection_client,\n\u001b[0;32m    143\u001b[0m )\n\u001b[0;32m    144\u001b[0m client\u001b[38;5;241m.\u001b[39mauto_close_connection_pool \u001b[38;5;241m=\u001b[39m \u001b[38;5;28;01mTrue\u001b[39;00m\n",
      "File \u001b[1;32mc:\\python3.10.8\\lib\\site-packages\\redis\\connection.py:971\u001b[0m, in \u001b[0;36mConnectionPool.from_url\u001b[1;34m(cls, url, **kwargs)\u001b[0m\n\u001b[0;32m    930\u001b[0m \u001b[38;5;129m@classmethod\u001b[39m\n\u001b[0;32m    931\u001b[0m \u001b[38;5;28;01mdef\u001b[39;00m \u001b[38;5;21mfrom_url\u001b[39m(\u001b[38;5;28mcls\u001b[39m, url, \u001b[38;5;241m*\u001b[39m\u001b[38;5;241m*\u001b[39mkwargs):\n\u001b[0;32m    932\u001b[0m \u001b[38;5;250m    \u001b[39m\u001b[38;5;124;03m\"\"\"\u001b[39;00m\n\u001b[0;32m    933\u001b[0m \u001b[38;5;124;03m    Return a connection pool configured from the given URL.\u001b[39;00m\n\u001b[0;32m    934\u001b[0m \n\u001b[1;32m   (...)\u001b[0m\n\u001b[0;32m    969\u001b[0m \u001b[38;5;124;03m    arguments always win.\u001b[39;00m\n\u001b[0;32m    970\u001b[0m \u001b[38;5;124;03m    \"\"\"\u001b[39;00m\n\u001b[1;32m--> 971\u001b[0m     url_options \u001b[38;5;241m=\u001b[39m \u001b[43mparse_url\u001b[49m\u001b[43m(\u001b[49m\u001b[43murl\u001b[49m\u001b[43m)\u001b[49m\n\u001b[0;32m    973\u001b[0m     \u001b[38;5;28;01mif\u001b[39;00m \u001b[38;5;124m\"\u001b[39m\u001b[38;5;124mconnection_class\u001b[39m\u001b[38;5;124m\"\u001b[39m \u001b[38;5;129;01min\u001b[39;00m kwargs:\n\u001b[0;32m    974\u001b[0m         url_options[\u001b[38;5;124m\"\u001b[39m\u001b[38;5;124mconnection_class\u001b[39m\u001b[38;5;124m\"\u001b[39m] \u001b[38;5;241m=\u001b[39m kwargs[\u001b[38;5;124m\"\u001b[39m\u001b[38;5;124mconnection_class\u001b[39m\u001b[38;5;124m\"\u001b[39m]\n",
      "File \u001b[1;32mc:\\python3.10.8\\lib\\site-packages\\redis\\connection.py:861\u001b[0m, in \u001b[0;36mparse_url\u001b[1;34m(url)\u001b[0m\n\u001b[0;32m    859\u001b[0m \u001b[38;5;28;01mdef\u001b[39;00m \u001b[38;5;21mparse_url\u001b[39m(url):\n\u001b[0;32m    860\u001b[0m     \u001b[38;5;28;01mif\u001b[39;00m \u001b[38;5;129;01mnot\u001b[39;00m (\n\u001b[1;32m--> 861\u001b[0m         \u001b[43murl\u001b[49m\u001b[38;5;241;43m.\u001b[39;49m\u001b[43mstartswith\u001b[49m(\u001b[38;5;124m\"\u001b[39m\u001b[38;5;124mredis://\u001b[39m\u001b[38;5;124m\"\u001b[39m)\n\u001b[0;32m    862\u001b[0m         \u001b[38;5;129;01mor\u001b[39;00m url\u001b[38;5;241m.\u001b[39mstartswith(\u001b[38;5;124m\"\u001b[39m\u001b[38;5;124mrediss://\u001b[39m\u001b[38;5;124m\"\u001b[39m)\n\u001b[0;32m    863\u001b[0m         \u001b[38;5;129;01mor\u001b[39;00m url\u001b[38;5;241m.\u001b[39mstartswith(\u001b[38;5;124m\"\u001b[39m\u001b[38;5;124munix://\u001b[39m\u001b[38;5;124m\"\u001b[39m)\n\u001b[0;32m    864\u001b[0m     ):\n\u001b[0;32m    865\u001b[0m         \u001b[38;5;28;01mraise\u001b[39;00m \u001b[38;5;167;01mValueError\u001b[39;00m(\n\u001b[0;32m    866\u001b[0m             \u001b[38;5;124m\"\u001b[39m\u001b[38;5;124mRedis URL must specify one of the following \u001b[39m\u001b[38;5;124m\"\u001b[39m\n\u001b[0;32m    867\u001b[0m             \u001b[38;5;124m\"\u001b[39m\u001b[38;5;124mschemes (redis://, rediss://, unix://)\u001b[39m\u001b[38;5;124m\"\u001b[39m\n\u001b[0;32m    868\u001b[0m         )\n\u001b[0;32m    870\u001b[0m     url \u001b[38;5;241m=\u001b[39m urlparse(url)\n",
      "\u001b[1;31mAttributeError\u001b[0m: 'NoneType' object has no attribute 'startswith'"
     ]
    }
   ],
   "source": [
    "import redis\n",
    "import os\n",
    "from dotenv import load_dotenv\n",
    "load_dotenv()\n",
    "redis_conn = redis.Redis.from_url(os.environ.get('REDIS_HOST_PASSWORD'))"
   ]
  },
  {
   "cell_type": "code",
   "execution_count": 8,
   "metadata": {},
   "outputs": [
    {
     "data": {
      "text/plain": [
       "3"
      ]
     },
     "execution_count": 8,
     "metadata": {},
     "output_type": "execute_result"
    }
   ],
   "source": [
    "redis_conn.incr('test:increment',1)"
   ]
  }
 ],
 "metadata": {
  "kernelspec": {
   "display_name": ".venv",
   "language": "python",
   "name": "python3"
  },
  "language_info": {
   "codemirror_mode": {
    "name": "ipython",
    "version": 3
   },
   "file_extension": ".py",
   "mimetype": "text/x-python",
   "name": "python",
   "nbconvert_exporter": "python",
   "pygments_lexer": "ipython3",
   "version": "3.10.8"
  }
 },
 "nbformat": 4,
 "nbformat_minor": 2
}
