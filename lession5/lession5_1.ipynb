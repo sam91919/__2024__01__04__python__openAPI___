{
 "cells": [
  {
   "cell_type": "code",
   "execution_count": 1,
   "metadata": {},
   "outputs": [
    {
     "name": "stdout",
     "output_type": "stream",
     "text": [
      "你的BMI為 27.13 屬於:輕度肥胖\n"
     ]
    }
   ],
   "source": [
    "try:\n",
    "    height_cm = float(input(\"請輸入身高(cm):\"))\n",
    "    weight_kg = float(input(\"請輸入體重(kg):\"))\n",
    "\n",
    "    height_m = height_cm/100\n",
    "\n",
    "    bmi = round(weight_kg / height_m **2 , 2)\n",
    "\n",
    "    if 35 <= bmi:\n",
    "        print(\"你的BMI為\",bmi,\";屬於:重度肥胖\")\n",
    "    elif 30<= bmi <35:\n",
    "        print(\"你的BMI為\",bmi,\"屬於:中度肥胖\")\n",
    "    elif 27 <= bmi < 30:\n",
    "        print(\"你的BMI為\",bmi,\"屬於:輕度肥胖\")\n",
    "    elif  24 <= bmi < 27:\n",
    "        print(\"你的BMI為\",bmi,\"屬於:過重\")\n",
    "    elif 18.5 <= bmi < 24:\n",
    "        print(\"你的BMI為\",bmi,\"屬於:標準範圍\")\n",
    "    elif bmi < 18.5:\n",
    "        print(\"你的BMI為\",bmi,\"屬於:過輕\")\n",
    "except:\n",
    "    print(\"請不要輸入非數字資料，請重新輸入\")"
   ]
  },
  {
   "cell_type": "code",
   "execution_count": 4,
   "metadata": {},
   "outputs": [
    {
     "name": "stdout",
     "output_type": "stream",
     "text": [
      "1~100的加總是: 5050\n"
     ]
    }
   ],
   "source": [
    "#1~100的加總\n",
    "\n",
    "Value=1\n",
    "total=0\n",
    "while Value <= 100:\n",
    "    total +=Value\n",
    "    Value +=1\n",
    "\n",
    "print(\"1~100的加總是:\", total)  \n",
    "  "
   ]
  },
  {
   "cell_type": "code",
   "execution_count": 5,
   "metadata": {},
   "outputs": [
    {
     "name": "stdout",
     "output_type": "stream",
     "text": [
      "1~100的加總是: 5050\n"
     ]
    }
   ],
   "source": [
    "#1~100的加總\n",
    "Value=1\n",
    "total=0\n",
    "while True:\n",
    "    total +=Value\n",
    "    Value +=1\n",
    "    if Value > 100:\n",
    "        break\n",
    "\n",
    "print(\"1~100的加總是:\", total)    "
   ]
  },
  {
   "cell_type": "code",
   "execution_count": 9,
   "metadata": {},
   "outputs": [
    {
     "name": "stdout",
     "output_type": "stream",
     "text": [
      "China\n",
      "Ghana\n",
      "Japan\n",
      "程式結束\n"
     ]
    }
   ],
   "source": [
    "while True:\n",
    "    stuff = input(\"請輸入小寫英文字[按q會離開]:\")\n",
    "    if stuff==\"q\":\n",
    "        break\n",
    "    print(stuff.capitalize())\n",
    "print(\"程式結束\")\n"
   ]
  },
  {
   "cell_type": "code",
   "execution_count": 19,
   "metadata": {},
   "outputs": [
    {
     "name": "stdout",
     "output_type": "stream",
     "text": [
      "加總為: 10\n"
     ]
    }
   ],
   "source": [
    "#請設計一個程式，讓使用者輸入數值，只有加總正偶數值，不加總正奇值，如果輸入負數，結束程式。\n",
    "total = 0\n",
    "while True:\n",
    "    input_Value = int(input(\"請輸入數值:\"))\n",
    "    if input_Value < 0:\n",
    "        break\n",
    "    if input_Value % 2 == 1:\n",
    "        continue\n",
    "    else:\n",
    "        total += input_Value\n",
    "\n",
    "print(\"加總為:\",total)  \n"
   ]
  }
 ],
 "metadata": {
  "kernelspec": {
   "display_name": "Python 3",
   "language": "python",
   "name": "python3"
  },
  "language_info": {
   "codemirror_mode": {
    "name": "ipython",
    "version": 3
   },
   "file_extension": ".py",
   "mimetype": "text/x-python",
   "name": "python",
   "nbconvert_exporter": "python",
   "pygments_lexer": "ipython3",
   "version": "3.10.8"
  }
 },
 "nbformat": 4,
 "nbformat_minor": 2
}
