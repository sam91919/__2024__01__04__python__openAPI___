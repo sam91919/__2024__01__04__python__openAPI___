{
 "cells": [
  {
   "cell_type": "code",
   "execution_count": 3,
   "metadata": {},
   "outputs": [
    {
     "name": "stdout",
     "output_type": "stream",
     "text": [
      "下載成功\n",
      "[{'date': '2024-1-24 16:22:3', 'address': 'chicken_KFC', 'temperature': 25.17182, 'light': 46939.0}, {'date': '2024-1-24 16:39:14', 'address': 'chicken_KFC', 'temperature': 24.23554, 'light': 44122.0}, {'date': '2024-1-24 16:41:23', 'address': 'chicken_KFC', 'temperature': 27.0444, 'light': 42346.0}, {'date': '2024-1-24 16:41:43', 'address': 'chicken_KFC', 'temperature': 27.0444, 'light': 45371.0}, {'date': '2024-1-24 16:42:21', 'address': 'chicken_KFC', 'temperature': 27.0444, 'light': 42250.0}]\n"
     ]
    }
   ],
   "source": [
    "import requests\n",
    "\n",
    "url = 'https://openapi-test-6vnu.onrender.com/pico_w/?count=5'\n",
    "\n",
    "r = requests.get(url=url)\n",
    "\n",
    "if r.status_code == 200:\n",
    "    print(\"下載成功\")\n",
    "    data = r.json()\n",
    "\n",
    "print(data)"
   ]
  }
 ],
 "metadata": {
  "kernelspec": {
   "display_name": "UI",
   "language": "python",
   "name": "python3"
  },
  "language_info": {
   "codemirror_mode": {
    "name": "ipython",
    "version": 3
   },
   "file_extension": ".py",
   "mimetype": "text/x-python",
   "name": "python",
   "nbconvert_exporter": "python",
   "pygments_lexer": "ipython3",
   "version": "3.10.8"
  }
 },
 "nbformat": 4,
 "nbformat_minor": 2
}
