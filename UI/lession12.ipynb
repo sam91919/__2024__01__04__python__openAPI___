{
 "cells": [
  {
   "cell_type": "code",
   "execution_count": 3,
   "metadata": {},
   "outputs": [
    {
     "name": "stdout",
     "output_type": "stream",
     "text": [
      "下載成功\n",
      "[{'date': '2024-1-24 16:22:3', 'address': 'chicken_KFC', 'temperature': 25.17182, 'light': 46939.0}, {'date': '2024-1-24 16:39:14', 'address': 'chicken_KFC', 'temperature': 24.23554, 'light': 44122.0}, {'date': '2024-1-24 16:41:23', 'address': 'chicken_KFC', 'temperature': 27.0444, 'light': 42346.0}, {'date': '2024-1-24 16:41:43', 'address': 'chicken_KFC', 'temperature': 27.0444, 'light': 45371.0}, {'date': '2024-1-24 16:42:21', 'address': 'chicken_KFC', 'temperature': 27.0444, 'light': 42250.0}]\n"
     ]
    }
   ],
   "source": [
    "import requests\n",
    "\n",
    "url = 'https://openapi-test-6vnu.onrender.com/pico_w/?count=5'\n",
    "\n",
    "r = requests.get(url=url)\n",
    "\n",
    "if r.status_code == 200:\n",
    "    print(\"下載成功\")\n",
    "    data = r.json()\n",
    "\n",
    "print(data)"
   ]
  },
  {
   "cell_type": "code",
   "execution_count": 5,
   "metadata": {},
   "outputs": [
    {
     "name": "stdout",
     "output_type": "stream",
     "text": [
      "下載成功\n",
      "[{'date': '2024-1-24 16:22:3', 'address': 'chicken_KFC', 'temperature': 25.17182, 'light': 46939.0}, {'date': '2024-1-24 16:39:14', 'address': 'chicken_KFC', 'temperature': 24.23554, 'light': 44122.0}, {'date': '2024-1-24 16:41:23', 'address': 'chicken_KFC', 'temperature': 27.0444, 'light': 42346.0}, {'date': '2024-1-24 16:41:43', 'address': 'chicken_KFC', 'temperature': 27.0444, 'light': 45371.0}, {'date': '2024-1-24 16:42:21', 'address': 'chicken_KFC', 'temperature': 27.0444, 'light': 42250.0}]\n"
     ]
    },
    {
     "data": {
      "text/html": [
       "<div>\n",
       "<style scoped>\n",
       "    .dataframe tbody tr th:only-of-type {\n",
       "        vertical-align: middle;\n",
       "    }\n",
       "\n",
       "    .dataframe tbody tr th {\n",
       "        vertical-align: top;\n",
       "    }\n",
       "\n",
       "    .dataframe thead th {\n",
       "        text-align: right;\n",
       "    }\n",
       "</style>\n",
       "<table border=\"1\" class=\"dataframe\">\n",
       "  <thead>\n",
       "    <tr style=\"text-align: right;\">\n",
       "      <th></th>\n",
       "      <th>date</th>\n",
       "      <th>address</th>\n",
       "      <th>temperature</th>\n",
       "      <th>light</th>\n",
       "    </tr>\n",
       "  </thead>\n",
       "  <tbody>\n",
       "    <tr>\n",
       "      <th>0</th>\n",
       "      <td>2024-1-24 16:22:3</td>\n",
       "      <td>chicken_KFC</td>\n",
       "      <td>25.17182</td>\n",
       "      <td>46939.0</td>\n",
       "    </tr>\n",
       "    <tr>\n",
       "      <th>1</th>\n",
       "      <td>2024-1-24 16:39:14</td>\n",
       "      <td>chicken_KFC</td>\n",
       "      <td>24.23554</td>\n",
       "      <td>44122.0</td>\n",
       "    </tr>\n",
       "    <tr>\n",
       "      <th>2</th>\n",
       "      <td>2024-1-24 16:41:23</td>\n",
       "      <td>chicken_KFC</td>\n",
       "      <td>27.04440</td>\n",
       "      <td>42346.0</td>\n",
       "    </tr>\n",
       "    <tr>\n",
       "      <th>3</th>\n",
       "      <td>2024-1-24 16:41:43</td>\n",
       "      <td>chicken_KFC</td>\n",
       "      <td>27.04440</td>\n",
       "      <td>45371.0</td>\n",
       "    </tr>\n",
       "    <tr>\n",
       "      <th>4</th>\n",
       "      <td>2024-1-24 16:42:21</td>\n",
       "      <td>chicken_KFC</td>\n",
       "      <td>27.04440</td>\n",
       "      <td>42250.0</td>\n",
       "    </tr>\n",
       "  </tbody>\n",
       "</table>\n",
       "</div>"
      ],
      "text/plain": [
       "                 date      address  temperature    light\n",
       "0   2024-1-24 16:22:3  chicken_KFC     25.17182  46939.0\n",
       "1  2024-1-24 16:39:14  chicken_KFC     24.23554  44122.0\n",
       "2  2024-1-24 16:41:23  chicken_KFC     27.04440  42346.0\n",
       "3  2024-1-24 16:41:43  chicken_KFC     27.04440  45371.0\n",
       "4  2024-1-24 16:42:21  chicken_KFC     27.04440  42250.0"
      ]
     },
     "execution_count": 5,
     "metadata": {},
     "output_type": "execute_result"
    }
   ],
   "source": [
    "import requests\n",
    "import pandas as pd\n",
    "\n",
    "url = 'https://openapi-test-6vnu.onrender.com/pico_w/?count=5'\n",
    "\n",
    "r = requests.get(url=url)\n",
    "\n",
    "if r.status_code == 200:\n",
    "    print(\"下載成功\")\n",
    "    data = r.json()\n",
    "\n",
    "print(data)\n",
    "pd.DataFrame(data)\n",
    "\n"
   ]
  }
 ],
 "metadata": {
  "kernelspec": {
   "display_name": "UI",
   "language": "python",
   "name": "python3"
  },
  "language_info": {
   "codemirror_mode": {
    "name": "ipython",
    "version": 3
   },
   "file_extension": ".py",
   "mimetype": "text/x-python",
   "name": "python",
   "nbconvert_exporter": "python",
   "pygments_lexer": "ipython3",
   "version": "3.10.8"
  }
 },
 "nbformat": 4,
 "nbformat_minor": 2
}
